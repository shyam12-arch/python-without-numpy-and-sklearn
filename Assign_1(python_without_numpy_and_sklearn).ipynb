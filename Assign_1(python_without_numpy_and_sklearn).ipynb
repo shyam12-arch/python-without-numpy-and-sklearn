{
  "nbformat": 4,
  "nbformat_minor": 0,
  "metadata": {
    "colab": {
      "name": "Assign-1(python without numpy and sklearn)",
      "provenance": [],
      "collapsed_sections": []
    },
    "kernelspec": {
      "name": "python3",
      "display_name": "Python 3"
    },
    "language_info": {
      "name": "python"
    }
  },
  "cells": [
    {
      "cell_type": "code",
      "metadata": {
        "id": "yFU0T0-IJg2R",
        "colab": {
          "base_uri": "https://localhost:8080/"
        },
        "outputId": "0e30940f-3aad-46fb-8a8d-f43e17d55e1b"
      },
      "source": [
        "## Question-1(matrix multiplication)_sol. :-\n",
        "\n",
        "def matrix_mul(A, B):\n",
        "\n",
        "  if len(A[0])!=len(B):\n",
        "    return 'Not possible'\n",
        "  else:\n",
        "    R = [[0 for i in range(len(B[0]))] for j in range(len(A))]\n",
        "\n",
        "    for i in range(len(A)): \n",
        "      for j in range(len(B[0])):\n",
        "        for k in range(len(B)):\n",
        "\n",
        "          R[i][j] += A[i][k]*B[k][j]\n",
        "             \n",
        "  return R\n",
        "    \n",
        "A   = [[1, 3, 4],\n",
        "       [2, 5, 7],\n",
        "       [5, 9, 6]]\n",
        "B   = [[1, 0, 0],\n",
        "       [0, 1, 0],\n",
        "       [0, 0, 1]]\n",
        "       \n",
        "matrix_mul(A,B)\n",
        "\n"
      ],
      "execution_count": 1,
      "outputs": [
        {
          "output_type": "execute_result",
          "data": {
            "text/plain": [
              "[[1, 3, 4], [2, 5, 7], [5, 9, 6]]"
            ]
          },
          "metadata": {
            "tags": []
          },
          "execution_count": 1
        }
      ]
    },
    {
      "cell_type": "code",
      "metadata": {
        "id": "YuF7XbrhuCbn",
        "colab": {
          "base_uri": "https://localhost:8080/"
        },
        "outputId": "d22fde7f-20c7-412e-ad3b-be7e78084160"
      },
      "source": [
        "## Question-2(select no. randomly with prob.proportional to magnitude .....) sol. :-\n",
        "\n",
        "from random import uniform\n",
        "import random\n",
        "\n",
        "def pick_a_number_from_list(A):\n",
        "  sum=0\n",
        "  cum_sum=[]\n",
        "  for i in range(len(A)):\n",
        "     sum += A[i]\n",
        "     cum_sum.append(sum)\n",
        "\n",
        "  R = int(random.uniform(0,sum))\n",
        "  \n",
        "  num=0\n",
        "  for k in range(len(cum_sum)):\n",
        "    if (R>=cum_sum[k] and R<cum_sum[k+1]):\n",
        "      return A[k+1]\n",
        "  return num\n",
        "\n",
        "A = [0, 5, 27, 6, 13, 28, 100, 45, 10, 79]\n",
        "\n",
        "def sampling_based_on_magnitued():\n",
        "  for i in range(1,100):\n",
        "      number = pick_a_number_from_list(A)\n",
        "      print(number)\n",
        "\n",
        "sampling_based_on_magnitued()      \n",
        "    "
      ],
      "execution_count": 5,
      "outputs": [
        {
          "output_type": "stream",
          "text": [
            "28\n",
            "100\n",
            "27\n",
            "100\n",
            "100\n",
            "27\n",
            "79\n",
            "79\n",
            "100\n",
            "45\n",
            "100\n",
            "28\n",
            "79\n",
            "13\n",
            "100\n",
            "100\n",
            "45\n",
            "100\n",
            "27\n",
            "79\n",
            "79\n",
            "100\n",
            "100\n",
            "79\n",
            "45\n",
            "79\n",
            "79\n",
            "100\n",
            "27\n",
            "79\n",
            "45\n",
            "79\n",
            "79\n",
            "79\n",
            "100\n",
            "100\n",
            "10\n",
            "79\n",
            "100\n",
            "27\n",
            "100\n",
            "45\n",
            "28\n",
            "79\n",
            "100\n",
            "27\n",
            "100\n",
            "100\n",
            "45\n",
            "28\n",
            "27\n",
            "100\n",
            "45\n",
            "79\n",
            "79\n",
            "100\n",
            "79\n",
            "28\n",
            "100\n",
            "45\n",
            "79\n",
            "45\n",
            "79\n",
            "13\n",
            "10\n",
            "100\n",
            "100\n",
            "45\n",
            "5\n",
            "79\n",
            "45\n",
            "100\n",
            "45\n",
            "45\n",
            "45\n",
            "45\n",
            "10\n",
            "27\n",
            "27\n",
            "100\n",
            "28\n",
            "45\n",
            "79\n",
            "79\n",
            "28\n",
            "28\n",
            "28\n",
            "79\n",
            "100\n",
            "45\n",
            "79\n",
            "28\n",
            "100\n",
            "100\n",
            "100\n",
            "100\n",
            "27\n",
            "100\n",
            "10\n"
          ],
          "name": "stdout"
        }
      ]
    },
    {
      "cell_type": "code",
      "metadata": {
        "id": "KHLcveE_3Z5r",
        "colab": {
          "base_uri": "https://localhost:8080/",
          "height": 37
        },
        "outputId": "f4940dce-19bc-49e0-b8a0-febfe11a7323"
      },
      "source": [
        "## Question-3(replace the digit in the string.....) sol. :-\n",
        "\n",
        "import re\n",
        "\n",
        "def replace_digits(string):\n",
        "  for i in string.split():\n",
        "    k = '#' * len([x for x in i if x.isdigit()])\n",
        "  return k\n",
        "  \n",
        "\n",
        "\n",
        "B = 'axd23#%$'    \n",
        "\n",
        "replace_digits(B)  "
      ],
      "execution_count": 48,
      "outputs": [
        {
          "output_type": "execute_result",
          "data": {
            "application/vnd.google.colaboratory.intrinsic+json": {
              "type": "string"
            },
            "text/plain": [
              "'##'"
            ]
          },
          "metadata": {
            "tags": []
          },
          "execution_count": 48
        }
      ]
    },
    {
      "cell_type": "code",
      "metadata": {
        "id": "-GdQde5TDktO",
        "colab": {
          "base_uri": "https://localhost:8080/"
        },
        "outputId": "83d95ea1-271d-4ffb-a1d7-d2a1e8d2c369"
      },
      "source": [
        "## Question-4(student marks dashboard) sol. :-\n",
        "\n",
        "def display_dashboard(students,marks):\n",
        "  k=list(zip(marks,students))\n",
        "  r=sorted(k,reverse=True)\n",
        "  s=sorted(k)\n",
        "\n",
        "  top_5_students = r[0:5]\n",
        "  least_5_students = s[0:5]\n",
        "\n",
        "  print('a.')\n",
        "  for i_1 in top_5_students:\n",
        "    print(i_1)    \n",
        "  \n",
        "  print('b.')\n",
        "  for i_2 in least_5_students:\n",
        "    print(i_2)\n",
        "  \n",
        "  print('c.')\n",
        "\n",
        "  def find_percentile(Marks):\n",
        "    n = sorted(Marks)\n",
        "    l = len(n)\n",
        "    a = int(0.25*l)\n",
        "    a1 = n[a]\n",
        "\n",
        "    b = int(.75*l)\n",
        "    b1 = n[b]\n",
        "    return a1,b1\n",
        "\n",
        "  z = find_percentile(Marks)\n",
        " \n",
        "  for i in s:\n",
        "    if i[0]>=z[0] and i[0]<z[1]:\n",
        "      print(i)  \n",
        "\n",
        "  \n",
        "Students = ['student1','student2','student3','student4','student5','student6','student7','student8','student9','student10'] \n",
        "Marks = [45, 78, 12, 14, 48, 43, 47, 98, 35, 80]      \n",
        "\n",
        "display_dashboard(Students,Marks)\n"
      ],
      "execution_count": 61,
      "outputs": [
        {
          "output_type": "stream",
          "text": [
            "a.\n",
            "(98, 'student8')\n",
            "(80, 'student10')\n",
            "(78, 'student2')\n",
            "(48, 'student5')\n",
            "(47, 'student7')\n",
            "b.\n",
            "(12, 'student3')\n",
            "(14, 'student4')\n",
            "(35, 'student9')\n",
            "(43, 'student6')\n",
            "(45, 'student1')\n",
            "c.\n",
            "(35, 'student9')\n",
            "(43, 'student6')\n",
            "(45, 'student1')\n",
            "(47, 'student7')\n",
            "(48, 'student5')\n"
          ],
          "name": "stdout"
        }
      ]
    },
    {
      "cell_type": "code",
      "metadata": {
        "id": "1hi3N3llQtc8",
        "colab": {
          "base_uri": "https://localhost:8080/"
        },
        "outputId": "1c3faafb-f071-44e3-92a6-81c2453c1f5d"
      },
      "source": [
        "## Question-5(find the closest point) sol.:-\n",
        "\n",
        "import math\n",
        "\n",
        "def closest_points_to_p(s, p):\n",
        "  x=[]\n",
        "  y=[]\n",
        "  for i in s:\n",
        "    numer = i[0]*p[0]+i[1]*p[1]\n",
        "\n",
        "    denom = (math.sqrt((i[0]**2)+(i[1]**2)))*(math.sqrt((p[0]**2)+(p[1]**2)))\n",
        "    cosine_dist = math.acos(numer/denom)\n",
        "\n",
        "    x.append((cosine_dist,i))\n",
        "  for j in sorted(x)[0:5]:\n",
        "    y.append(j[1])\n",
        "\n",
        "  return y \n",
        "\n",
        "S = [(1,2),(3,4),(-1,1),(6,-7),(0, 6),(-5,-8),(-1,-1),(6,0),(1,-1)]\n",
        "P= (3,-4)\n",
        "points = closest_points_to_p(S, P)\n",
        "\n",
        "for l in points:\n",
        "  print(l)\n",
        "\n"
      ],
      "execution_count": 62,
      "outputs": [
        {
          "output_type": "stream",
          "text": [
            "(6, -7)\n",
            "(1, -1)\n",
            "(6, 0)\n",
            "(-5, -8)\n",
            "(-1, -1)\n"
          ],
          "name": "stdout"
        }
      ]
    },
    {
      "cell_type": "code",
      "metadata": {
        "id": "XEXRkZU9dhTL",
        "colab": {
          "base_uri": "https://localhost:8080/"
        },
        "outputId": "2b59fc48-7eaa-4270-e7ec-4214545b4e9f"
      },
      "source": [
        "## Question-6(Find Which line separates oranges and apples) sol. :-\n",
        "\n",
        "\n",
        "import math\n",
        "\n",
        "def i_am_the_one(Red,Blue,line):\n",
        "  r_pts = -1\n",
        "  if eval(line.replace('x','*%s'%Red[0][0]).replace('y','*%s'%Red[0][1])):\n",
        "    r_pts = +1\n",
        "  for i in Red:\n",
        "    if r_pts == 1 and eval(line.replace('x','*%s'%i[0]).replace('y','*%s'%i[1])) < 0:\n",
        "      return 'NO'\n",
        "    if r_pts == -1 and eval(line.replace('x','*%s'%i[0]).replace('y','*%s'%i[1])) > 0:\n",
        "      return 'NO'\n",
        "\n",
        "  b_pts = -1*r_pts\n",
        "\n",
        "  for i in Blue:\n",
        "    if b_pts == 1 and eval(line.replace('x','*%s'%i[0]).replace('y','*%s'%i[1])) < 0:\n",
        "      return 'NO'\n",
        "    if b_pts == -1 and eval(line.replace('x','*%s'%i[0]).replace('y','*%s'%i[1])) > 0:\n",
        "      return 'NO'\n",
        "  return 'yes'\n",
        "\n",
        "\n",
        "Red= [(1,1),(2,1),(4,2),(2,4), (-1,4)]\n",
        "Blue= [(-2,-1),(-1,-2),(-3,-2),(-3,-1),(1,-3)]\n",
        "Lines=[\"1x+1y+0\",\"1x-1y+0\",\"1x+0y-3\",\"0x+1y-0.5\"]\n",
        "\n",
        "for i in Lines:\n",
        "    yes_or_no = i_am_the_one(Red, Blue, i)\n",
        "    print(yes_or_no)"
      ],
      "execution_count": 63,
      "outputs": [
        {
          "output_type": "stream",
          "text": [
            "yes\n",
            "NO\n",
            "NO\n",
            "yes\n"
          ],
          "name": "stdout"
        }
      ]
    },
    {
      "cell_type": "code",
      "metadata": {
        "id": "oWHVxGxwS8Xv",
        "colab": {
          "base_uri": "https://localhost:8080/"
        },
        "outputId": "98b5ce73-de1a-47d5-e661-1766eaaa8d21"
      },
      "source": [
        "## Question-7(Filling the missing values in the specified formate) sol. :-\n",
        "\n",
        "def curve_smoothing(string):\n",
        "  pos = []\n",
        "  l = string.split(',')\n",
        "\n",
        "  for i in range(len(l)):\n",
        "    if l[i] != '_':\n",
        "      pos.append(i)\n",
        "  pos.append(len(l)-1)    \n",
        "\n",
        "  n = 0\n",
        "  for j in pos:\n",
        "    sum = 0 if l[j] == '_' else int(l[j])\n",
        "    sum += int(l[n]) if l[n] != '_' and n != j else 0\n",
        "\n",
        "    k = sum / (j-n+1)\n",
        "    l = [k if n <= x <= j else l[x] for x in range(len(l))]\n",
        "    n = j\n",
        "  return l\n",
        "\n",
        "s =  \"_,_,30,_,_,_,50,_,_\"\n",
        "s1 = \"_,_,_,24\"\n",
        "s2 = \"40,_,_,_,60\"\n",
        "s3 = \"80,_,_,_,_\"\n",
        "\n",
        "smoothed_values1 = curve_smoothing(s)\n",
        "smoothed_values2 = curve_smoothing(s1)\n",
        "smoothed_values3 = curve_smoothing(s2)\n",
        "smoothed_values4 = curve_smoothing(s3)\n",
        "print(smoothed_values1)        \n",
        "print(smoothed_values2)\n",
        "print(smoothed_values3)\n",
        "print(smoothed_values4)\n"
      ],
      "execution_count": 68,
      "outputs": [
        {
          "output_type": "stream",
          "text": [
            "[10.0, 10.0, 12.0, 12.0, 12.0, 12.0, 4.0, 4.0, 4.0]\n",
            "[6.0, 6.0, 6.0, 6.0]\n",
            "[20.0, 20.0, 20.0, 20.0, 20.0]\n",
            "[16.0, 16.0, 16.0, 16.0, 16.0]\n"
          ],
          "name": "stdout"
        }
      ]
    },
    {
      "cell_type": "code",
      "metadata": {
        "id": "NfTXfpEnlT7P",
        "colab": {
          "base_uri": "https://localhost:8080/"
        },
        "outputId": "154aa8bc-4a91-4fb5-ecec-bdd9ae3927e4"
      },
      "source": [
        "## Question-8( Filling the missing values in the specified formate) sol. :-\n",
        "\n",
        "dict1 = {'F1S1':0,'F2S1':0,'F3S1':0,'F4S1':0,'F5S1':0,'F1S2':0,'F2S2':0,'F3S2':0,'F4S2':0,'F5S2':0,'F1S3':0,'F2S3':0,'F3S3':0,'F4S3':0,'F5S3':0}\n",
        "\n",
        "dict2 = {'S1':0,'S2':0,'S3':0}\n",
        "\n",
        "def compute_conditional_probabilities(A):\n",
        "\n",
        "  for i in range(len(A)):\n",
        "    k = A[i][0] + A[i][1]\n",
        "    dict1[k] += 1\n",
        "    dict2[A[i][1]] += 1\n",
        " \n",
        "A = [['F1','S1'],['F2','S2'],['F3','S3'],['F1','S2'],['F2','S3'],['F3','S2'],['F2','S1'],['F4','S1'],['F4','S3'],['F5','S1']]\n",
        "\n",
        "compute_conditional_probabilities(A)\n",
        "\n",
        "print('a. P(F=F1|S==S1)=',(dict1['F1S1']/dict2['S1']) ,',','P(F=F1|S==S2)=',(dict1['F1S2']/dict2['S2']) ,',','P(F=F1|S==S3)=',(dict1['F1S3']/dict2['S3']))\n",
        "print('')\n",
        "print('b. P(F=F2|S==S1)=',(dict1['F2S1']/dict2['S1']) ,',','P(F=F2|S==S2)=',(dict1['F2S2']/dict2['S2']) ,',','P(F=F2|S==S3)=',(dict1['F2S3']/dict2['S3']))\n",
        "print('')\n",
        "print('c. P(F=F3|S==S1)=',(dict1['F3S1']/dict2['S1']) ,',','P(F=F3|S==S2)=',(dict1['F3S2']/dict2['S2']) ,',','P(F=F3|S==S3)=',(dict1['F3S3']/dict2['S3']))\n",
        "print('')\n",
        "print('d.P(F=F4|S==S1)=',(dict1['F4S1']/dict2['S1']) ,',','P(F=F4|S==S2)=',(dict1['F4S2']/dict2['S2']) ,',','P(F=F4|S==S3)=',(dict1['F4S3']/dict2['S3']))\n",
        "print('')\n",
        "print('e.P(F=F5|S==S1)=',(dict1['F5S1']/dict2['S1']) ,',','P(F=F5|S==S2)=',(dict1['F5S2']/dict2['S2']) ,',','P(F=F5|S==S3)=',(dict1['F5S3']/dict2['S3']))\n",
        "\n",
        "\n",
        "\n",
        "\n"
      ],
      "execution_count": 69,
      "outputs": [
        {
          "output_type": "stream",
          "text": [
            "a. P(F=F1|S==S1)= 0.25 , P(F=F1|S==S2)= 0.3333333333333333 , P(F=F1|S==S3)= 0.0\n",
            "\n",
            "b. P(F=F2|S==S1)= 0.25 , P(F=F2|S==S2)= 0.3333333333333333 , P(F=F2|S==S3)= 0.3333333333333333\n",
            "\n",
            "c. P(F=F3|S==S1)= 0.0 , P(F=F3|S==S2)= 0.3333333333333333 , P(F=F3|S==S3)= 0.3333333333333333\n",
            "\n",
            "d.P(F=F4|S==S1)= 0.25 , P(F=F4|S==S2)= 0.0 , P(F=F4|S==S3)= 0.3333333333333333\n",
            "\n",
            "e.P(F=F5|S==S1)= 0.25 , P(F=F5|S==S2)= 0.0 , P(F=F5|S==S3)= 0.0\n"
          ],
          "name": "stdout"
        }
      ]
    },
    {
      "cell_type": "code",
      "metadata": {
        "id": "9iFx-svF4fqI",
        "colab": {
          "base_uri": "https://localhost:8080/"
        },
        "outputId": "9631e71c-e234-4ff0-a76f-26074f28da98"
      },
      "source": [
        "## Question-9( Given two sentances S1, S2) sol. :-\n",
        "\n",
        "def string_features(s1,s2):\n",
        "  l1 = set(s1.split())\n",
        "  l2 = set(s2.split())\n",
        "\n",
        "  a = len(list(l1.intersection(l2)))\n",
        "  b = list(l1.difference(l2))\n",
        "  c = list(l2.difference(l1))\n",
        "\n",
        "  return a,b,c\n",
        "\n",
        "S1= \"the first column F will contain only 5 uniques values\"\n",
        "S2= \"the second column S will contain only 3 uniques values\"\n",
        "a,b,c = string_features(S1, S2)\n",
        "print(a)\n",
        "print(b)\n",
        "print(c)"
      ],
      "execution_count": 70,
      "outputs": [
        {
          "output_type": "stream",
          "text": [
            "7\n",
            "['5', 'first', 'F']\n",
            "['3', 'S', 'second']\n"
          ],
          "name": "stdout"
        }
      ]
    },
    {
      "cell_type": "code",
      "metadata": {
        "id": "mvYIICIp8Ojr",
        "colab": {
          "base_uri": "https://localhost:8080/"
        },
        "outputId": "c5e8bcbb-b951-4b45-9c8e-0f803cfab486"
      },
      "source": [
        "## Question-10(Given two sentances S1, S2) sol. :-\n",
        "\n",
        "import math\n",
        "def compute_log_loss(A):\n",
        "  N = len(A)\n",
        "  loss = 0\n",
        "\n",
        "  for i in range(N):\n",
        "    loss += (A[i][0]*math.log10(A[i][1])+(1-A[i][0])*math.log10(1-A[i][1]))\n",
        "  return -1*loss/N \n",
        "\n",
        "A = [[1, 0.4], [0, 0.5], [0, 0.9], [0, 0.3], [0, 0.6], [1, 0.1], [1, 0.9], [1, 0.8]]\n",
        "loss = compute_log_loss(A)\n",
        "print(loss)   "
      ],
      "execution_count": 71,
      "outputs": [
        {
          "output_type": "stream",
          "text": [
            "0.42430993457031635\n"
          ],
          "name": "stdout"
        }
      ]
    }
  ]
}